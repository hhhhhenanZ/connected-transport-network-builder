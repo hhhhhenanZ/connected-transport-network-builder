{
  "nbformat": 4,
  "nbformat_minor": 0,
  "metadata": {
    "colab": {
      "provenance": [],
      "authorship_tag": "ABX9TyMyoMnbWnoXwSZXOi8H9XeB",
      "include_colab_link": true
    },
    "kernelspec": {
      "name": "python3",
      "display_name": "Python 3"
    },
    "language_info": {
      "name": "python"
    }
  },
  "cells": [
    {
      "cell_type": "markdown",
      "metadata": {
        "id": "view-in-github",
        "colab_type": "text"
      },
      "source": [
        "<a href=\"https://colab.research.google.com/github/hhhhhenanZ/zone2assignment/blob/main/zone2assignment_User_Guide.ipynb\" target=\"_parent\"><img src=\"https://colab.research.google.com/assets/colab-badge.svg\" alt=\"Open In Colab\"/></a>"
      ]
    },
    {
      "cell_type": "markdown",
      "source": [
        "# zone2assignment User Guide\n",
        "### GitHub link: https://github.com/hhhhhenanZ/zone2assignment/tree/main"
      ],
      "metadata": {
        "id": "enj_ydakiiMM"
      }
    },
    {
      "cell_type": "code",
      "execution_count": 4,
      "metadata": {
        "colab": {
          "base_uri": "https://localhost:8080/"
        },
        "id": "DhhHYWYeaTUs",
        "outputId": "1592adbb-b5f4-43af-d348-7870220c7fbd"
      },
      "outputs": [
        {
          "output_type": "stream",
          "name": "stdout",
          "text": [
            "Requirement already satisfied: osm2gmns==1.0.1 in /usr/local/lib/python3.11/dist-packages (1.0.1)\n",
            "Requirement already satisfied: geopandas[all] in /usr/local/lib/python3.11/dist-packages (1.0.1)\n",
            "Requirement already satisfied: numpy>=1.22 in /usr/local/lib/python3.11/dist-packages (from geopandas[all]) (2.0.2)\n",
            "Requirement already satisfied: pyogrio>=0.7.2 in /usr/local/lib/python3.11/dist-packages (from geopandas[all]) (0.11.0)\n",
            "Requirement already satisfied: packaging in /usr/local/lib/python3.11/dist-packages (from geopandas[all]) (24.2)\n",
            "Requirement already satisfied: pandas>=1.4.0 in /usr/local/lib/python3.11/dist-packages (from geopandas[all]) (2.2.2)\n",
            "Requirement already satisfied: pyproj>=3.3.0 in /usr/local/lib/python3.11/dist-packages (from geopandas[all]) (3.7.1)\n",
            "Requirement already satisfied: shapely>=2.0.0 in /usr/local/lib/python3.11/dist-packages (from geopandas[all]) (2.1.1)\n",
            "Requirement already satisfied: psycopg-binary>=3.1.0 in /usr/local/lib/python3.11/dist-packages (from geopandas[all]) (3.2.9)\n",
            "Requirement already satisfied: SQLAlchemy>=1.3 in /usr/local/lib/python3.11/dist-packages (from geopandas[all]) (2.0.41)\n",
            "Requirement already satisfied: geopy in /usr/local/lib/python3.11/dist-packages (from geopandas[all]) (2.4.1)\n",
            "Requirement already satisfied: matplotlib>=3.5.0 in /usr/local/lib/python3.11/dist-packages (from geopandas[all]) (3.10.0)\n",
            "Requirement already satisfied: mapclassify in /usr/local/lib/python3.11/dist-packages (from geopandas[all]) (2.8.1)\n",
            "Requirement already satisfied: xyzservices in /usr/local/lib/python3.11/dist-packages (from geopandas[all]) (2025.4.0)\n",
            "Requirement already satisfied: folium in /usr/local/lib/python3.11/dist-packages (from geopandas[all]) (0.19.6)\n",
            "Requirement already satisfied: GeoAlchemy2 in /usr/local/lib/python3.11/dist-packages (from geopandas[all]) (0.17.1)\n",
            "Requirement already satisfied: pyarrow>=8.0.0 in /usr/local/lib/python3.11/dist-packages (from geopandas[all]) (18.1.0)\n",
            "Requirement already satisfied: contourpy>=1.0.1 in /usr/local/lib/python3.11/dist-packages (from matplotlib>=3.5.0->geopandas[all]) (1.3.2)\n",
            "Requirement already satisfied: cycler>=0.10 in /usr/local/lib/python3.11/dist-packages (from matplotlib>=3.5.0->geopandas[all]) (0.12.1)\n",
            "Requirement already satisfied: fonttools>=4.22.0 in /usr/local/lib/python3.11/dist-packages (from matplotlib>=3.5.0->geopandas[all]) (4.58.0)\n",
            "Requirement already satisfied: kiwisolver>=1.3.1 in /usr/local/lib/python3.11/dist-packages (from matplotlib>=3.5.0->geopandas[all]) (1.4.8)\n",
            "Requirement already satisfied: pillow>=8 in /usr/local/lib/python3.11/dist-packages (from matplotlib>=3.5.0->geopandas[all]) (11.2.1)\n",
            "Requirement already satisfied: pyparsing>=2.3.1 in /usr/local/lib/python3.11/dist-packages (from matplotlib>=3.5.0->geopandas[all]) (3.2.3)\n",
            "Requirement already satisfied: python-dateutil>=2.7 in /usr/local/lib/python3.11/dist-packages (from matplotlib>=3.5.0->geopandas[all]) (2.9.0.post0)\n",
            "Requirement already satisfied: pytz>=2020.1 in /usr/local/lib/python3.11/dist-packages (from pandas>=1.4.0->geopandas[all]) (2025.2)\n",
            "Requirement already satisfied: tzdata>=2022.7 in /usr/local/lib/python3.11/dist-packages (from pandas>=1.4.0->geopandas[all]) (2025.2)\n",
            "Requirement already satisfied: certifi in /usr/local/lib/python3.11/dist-packages (from pyogrio>=0.7.2->geopandas[all]) (2025.4.26)\n",
            "Requirement already satisfied: greenlet>=1 in /usr/local/lib/python3.11/dist-packages (from SQLAlchemy>=1.3->geopandas[all]) (3.2.2)\n",
            "Requirement already satisfied: typing-extensions>=4.6.0 in /usr/local/lib/python3.11/dist-packages (from SQLAlchemy>=1.3->geopandas[all]) (4.13.2)\n",
            "Requirement already satisfied: branca>=0.6.0 in /usr/local/lib/python3.11/dist-packages (from folium->geopandas[all]) (0.8.1)\n",
            "Requirement already satisfied: jinja2>=2.9 in /usr/local/lib/python3.11/dist-packages (from folium->geopandas[all]) (3.1.6)\n",
            "Requirement already satisfied: requests in /usr/local/lib/python3.11/dist-packages (from folium->geopandas[all]) (2.32.3)\n",
            "Requirement already satisfied: geographiclib<3,>=1.52 in /usr/local/lib/python3.11/dist-packages (from geopy->geopandas[all]) (2.0)\n",
            "Requirement already satisfied: networkx>=2.7 in /usr/local/lib/python3.11/dist-packages (from mapclassify->geopandas[all]) (3.4.2)\n",
            "Requirement already satisfied: scikit-learn>=1.0 in /usr/local/lib/python3.11/dist-packages (from mapclassify->geopandas[all]) (1.6.1)\n",
            "Requirement already satisfied: scipy>=1.8 in /usr/local/lib/python3.11/dist-packages (from mapclassify->geopandas[all]) (1.15.3)\n",
            "Requirement already satisfied: MarkupSafe>=2.0 in /usr/local/lib/python3.11/dist-packages (from jinja2>=2.9->folium->geopandas[all]) (3.0.2)\n",
            "Requirement already satisfied: six>=1.5 in /usr/local/lib/python3.11/dist-packages (from python-dateutil>=2.7->matplotlib>=3.5.0->geopandas[all]) (1.17.0)\n",
            "Requirement already satisfied: joblib>=1.2.0 in /usr/local/lib/python3.11/dist-packages (from scikit-learn>=1.0->mapclassify->geopandas[all]) (1.5.0)\n",
            "Requirement already satisfied: threadpoolctl>=3.1.0 in /usr/local/lib/python3.11/dist-packages (from scikit-learn>=1.0->mapclassify->geopandas[all]) (3.6.0)\n",
            "Requirement already satisfied: charset-normalizer<4,>=2 in /usr/local/lib/python3.11/dist-packages (from requests->folium->geopandas[all]) (3.4.2)\n",
            "Requirement already satisfied: idna<4,>=2.5 in /usr/local/lib/python3.11/dist-packages (from requests->folium->geopandas[all]) (3.10)\n",
            "Requirement already satisfied: urllib3<3,>=1.21.1 in /usr/local/lib/python3.11/dist-packages (from requests->folium->geopandas[all]) (2.4.0)\n",
            "Requirement already satisfied: DTALite in /usr/local/lib/python3.11/dist-packages (0.8.1)\n"
          ]
        }
      ],
      "source": [
        "# ================================\n",
        "# Install required packages\n",
        "# ================================\n",
        "!pip install osm2gmns==1.0.1\n",
        "!pip install 'geopandas[all]'\n",
        "!pip install DTALite\n"
      ]
    },
    {
      "cell_type": "code",
      "source": [
        "import os\n",
        "import shutil"
      ],
      "metadata": {
        "id": "IwavQNuZiVqX"
      },
      "execution_count": 5,
      "outputs": []
    },
    {
      "cell_type": "code",
      "source": [
        "# ================================\n",
        "# Clone GitHub repo with scripts and sample data\n",
        "# ================================\n",
        "!git clone https://github.com/hhhhhenanZ/zone2assignment.git\n",
        "%cd zone2assignment\n"
      ],
      "metadata": {
        "colab": {
          "base_uri": "https://localhost:8080/"
        },
        "id": "-SbkMPRSb5Ek",
        "outputId": "b400a094-cb47-40d5-d6fa-fcce5ab57088"
      },
      "execution_count": 6,
      "outputs": [
        {
          "output_type": "stream",
          "name": "stdout",
          "text": [
            "Cloning into 'zone2assignment'...\n",
            "remote: Enumerating objects: 111, done.\u001b[K\n",
            "remote: Counting objects: 100% (111/111), done.\u001b[K\n",
            "remote: Compressing objects: 100% (81/81), done.\u001b[K\n",
            "remote: Total 111 (delta 36), reused 98 (delta 25), pack-reused 0 (from 0)\u001b[K\n",
            "Receiving objects: 100% (111/111), 11.41 MiB | 7.66 MiB/s, done.\n",
            "Resolving deltas: 100% (36/36), done.\n",
            "/content/zone2assignment\n"
          ]
        }
      ]
    },
    {
      "cell_type": "code",
      "source": [
        "# ================================\n",
        "# Use example data from GitHub `data/` folder\n",
        "# This folder includes:\n",
        "# - Zone shapefile set (e.g., .shp, .dbf, .shx, .prj)\n",
        "# - OSM file (e.g., Tempe.osm)\n",
        "# ================================\n",
        "!ls data\n",
        "\n",
        "# ================================\n",
        "# OPTIONAL: Upload custom files from your local machine\n",
        "# Uncomment this block if using your own shapefiles and OSM data\n",
        "# ================================\n",
        "# from google.colab import files\n",
        "# print(\"📤 Upload your shapefile set (.shp, .shx, .dbf, .prj) and an .osm file.\")\n",
        "# uploaded = files.upload()\n",
        "\n",
        "# ================================\n",
        "# OPTIONAL: Use Google Drive instead of uploading manually\n",
        "# Make sure your Drive folder has the required files\n",
        "# ================================\n",
        "# from google.colab import drive\n",
        "# drive.mount('/content/drive')\n",
        "# !cp \"/content/drive/MyDrive/your_folder/*.shp\" data/\n",
        "# !cp \"/content/drive/MyDrive/your_folder/*.dbf\" data/\n",
        "# !cp \"/content/drive/MyDrive/your_folder/*.shx\" data/\n",
        "# !cp \"/content/drive/MyDrive/your_folder/*.prj\" data/\n",
        "# !cp \"/content/drive/MyDrive/your_folder/*.osm\" data/\n"
      ],
      "metadata": {
        "colab": {
          "base_uri": "https://localhost:8080/"
        },
        "id": "ATwaR-zaddAl",
        "outputId": "9095c333-ec9c-45c4-b4f4-215b03dde181"
      },
      "execution_count": 7,
      "outputs": [
        {
          "output_type": "stream",
          "name": "stdout",
          "text": [
            "Census_Tract_Boundary.cpg  Census_Tract_Boundary.shp  Tempe.osm\n",
            "Census_Tract_Boundary.dbf  Census_Tract_Boundary.shx\n",
            "Census_Tract_Boundary.prj  Census_Tract_Boundary.xml\n"
          ]
        }
      ]
    },
    {
      "cell_type": "code",
      "source": [],
      "metadata": {
        "id": "KVHJ6qcbk-ne"
      },
      "execution_count": null,
      "outputs": []
    },
    {
      "cell_type": "code",
      "source": [
        "# ================================\n",
        "# Step 1: Extract Zone Centroid Data\n",
        "# ================================\n",
        "!mkdir -p Tempe_test_results\n",
        "!python Read_Zone_Data.py\n"
      ],
      "metadata": {
        "colab": {
          "base_uri": "https://localhost:8080/"
        },
        "id": "yUqtiHSldc3N",
        "outputId": "cc9cf47c-5fbe-4c5e-d329-765757bbb1b2"
      },
      "execution_count": 9,
      "outputs": [
        {
          "output_type": "stream",
          "name": "stdout",
          "text": [
            "Shapefile loaded successfully.\n",
            "Current CRS: EPSG:2223\n",
            "Reprojected CRS: EPSG:4326\n",
            "Available columns: Index(['OBJECTID', 'STATEFP', 'COUNTYFP', 'TRACTCE', 'GEOID', 'NAME',\n",
            "       'NAMELSAD', 'MTFCC', 'FUNCSTAT', 'ALAND', 'AWATER', 'INTPTLAT',\n",
            "       'INTPTLON', 'Shape__Are', 'Shape__Len', 'geometry'],\n",
            "      dtype='object')\n",
            "Figure(1200x800)\n",
            "Centroid data saved to Tempe_test_results/zone_centroid.csv\n"
          ]
        }
      ]
    },
    {
      "cell_type": "code",
      "source": [
        "# Move zone_centroid.csv into the same folder as node.csv and link.csv\n",
        "%cd /content/zone2assignment\n",
        "!cp /content/zone2assignment/Tempe_test_results/zone_centroid.csv ./zone_centroid.csv"
      ],
      "metadata": {
        "colab": {
          "base_uri": "https://localhost:8080/"
        },
        "id": "xLgtEk66pYpf",
        "outputId": "a269323f-e286-4022-f6a1-196923955619"
      },
      "execution_count": 14,
      "outputs": [
        {
          "output_type": "stream",
          "name": "stdout",
          "text": [
            "/content/zone2assignment\n"
          ]
        }
      ]
    },
    {
      "cell_type": "code",
      "source": [
        "# ================================\n",
        "# Step 2: Extract Physical Network from OSM\n",
        "# ================================\n",
        "!python Read_OSM_File.py"
      ],
      "metadata": {
        "id": "py7QrQxXdcvL",
        "colab": {
          "base_uri": "https://localhost:8080/"
        },
        "outputId": "d92bff32-104a-4341-8787-8b618b55ab06"
      },
      "execution_count": 15,
      "outputs": [
        {
          "output_type": "stream",
          "name": "stdout",
          "text": [
            "I0527 21:30:11.420208   15186 functions.cpp:43] loading data from osm file\n",
            "I0527 21:30:11.423409   15186 osmnetwork.cpp:570] no valid boundary information in the osm file\n",
            "I0527 21:30:15.048512   15186 osmnetwork.cpp:601] nodes: 13226 ways: 3068 relations: 0\n",
            "I0527 21:30:15.056425   15186 functions.cpp:46] start to build network\n",
            "I0527 21:30:15.066040   15186 functions.cpp:48] build network done\n",
            "I0527 21:30:15.066824   15186 networks.cpp:471] 66 intersections consolidated\n",
            "I0527 21:30:15.068854   15186 networks.cpp:380] Node activity info generated\n",
            "I0527 21:30:15.068911   15186 io.cpp:91] writing network to csv files\n",
            "I0527 21:30:15.107585   15186 networks.cpp:260] releasing network memory\n",
            "I0527 21:30:15.114958   15186 networks.cpp:283] network memory released\n"
          ]
        }
      ]
    },
    {
      "cell_type": "code",
      "source": [
        "# ================================\n",
        "# Step 6: Connect Centroids to Network\n",
        "# ================================\n",
        "!python Connector_Generation.py"
      ],
      "metadata": {
        "id": "5yg9-zY2hIR4",
        "colab": {
          "base_uri": "https://localhost:8080/"
        },
        "outputId": "394975a9-d1d3-4227-b82d-eb27750d2ffc"
      },
      "execution_count": 16,
      "outputs": [
        {
          "output_type": "stream",
          "name": "stdout",
          "text": [
            "Starting to process node data...\n",
            "Finding the maximum node_id in node_taz_df...\n",
            "Maximum node_id in node_taz_df: 44\n",
            "Adding new_node_id to node_df...\n",
            "New node_id generation completed.\n",
            "Filtering rows in node_df where 'zone_id' is not null...\n",
            "Filtered 135 rows with non-null zone_id.\n",
            "Filtered 2603 rows with null zone_id.\n",
            "Saving activity_node_df to '/content/zone2assignment/connected_network/activity_node.csv'...\n",
            "File saved successfully to '/content/zone2assignment/connected_network/activity_node.csv'.\n",
            "Saving common_node_df to '/content/zone2assignment/connected_network/common_node.csv'...\n",
            "File saved successfully to '/content/zone2assignment/connected_network/common_node.csv'.\n",
            "Starting to generate connector links...\n",
            "Calculating nearest TAZ nodes for activity nodes...\n",
            "Calculating nearest activity nodes for taz nodes...\n",
            "ave pair length: '998.4131430714165' meters.\n",
            "/content/zone2assignment/Connector_Generation.py:193: SettingWithCopyWarning: \n",
            "A value is trying to be set on a copy of a slice from a DataFrame.\n",
            "Try using .loc[row_indexer,col_indexer] = value instead\n",
            "\n",
            "See the caveats in the documentation: https://pandas.pydata.org/pandas-docs/stable/user_guide/indexing.html#returning-a-view-versus-a-copy\n",
            "  common_node_df['distance'] = np.sqrt(\n",
            "/content/zone2assignment/Connector_Generation.py:193: SettingWithCopyWarning: \n",
            "A value is trying to be set on a copy of a slice from a DataFrame.\n",
            "Try using .loc[row_indexer,col_indexer] = value instead\n",
            "\n",
            "See the caveats in the documentation: https://pandas.pydata.org/pandas-docs/stable/user_guide/indexing.html#returning-a-view-versus-a-copy\n",
            "  common_node_df['distance'] = np.sqrt(\n",
            "/content/zone2assignment/Connector_Generation.py:193: SettingWithCopyWarning: \n",
            "A value is trying to be set on a copy of a slice from a DataFrame.\n",
            "Try using .loc[row_indexer,col_indexer] = value instead\n",
            "\n",
            "See the caveats in the documentation: https://pandas.pydata.org/pandas-docs/stable/user_guide/indexing.html#returning-a-view-versus-a-copy\n",
            "  common_node_df['distance'] = np.sqrt(\n",
            "/content/zone2assignment/Connector_Generation.py:193: SettingWithCopyWarning: \n",
            "A value is trying to be set on a copy of a slice from a DataFrame.\n",
            "Try using .loc[row_indexer,col_indexer] = value instead\n",
            "\n",
            "See the caveats in the documentation: https://pandas.pydata.org/pandas-docs/stable/user_guide/indexing.html#returning-a-view-versus-a-copy\n",
            "  common_node_df['distance'] = np.sqrt(\n",
            "/content/zone2assignment/Connector_Generation.py:193: SettingWithCopyWarning: \n",
            "A value is trying to be set on a copy of a slice from a DataFrame.\n",
            "Try using .loc[row_indexer,col_indexer] = value instead\n",
            "\n",
            "See the caveats in the documentation: https://pandas.pydata.org/pandas-docs/stable/user_guide/indexing.html#returning-a-view-versus-a-copy\n",
            "  common_node_df['distance'] = np.sqrt(\n",
            "/content/zone2assignment/Connector_Generation.py:193: SettingWithCopyWarning: \n",
            "A value is trying to be set on a copy of a slice from a DataFrame.\n",
            "Try using .loc[row_indexer,col_indexer] = value instead\n",
            "\n",
            "See the caveats in the documentation: https://pandas.pydata.org/pandas-docs/stable/user_guide/indexing.html#returning-a-view-versus-a-copy\n",
            "  common_node_df['distance'] = np.sqrt(\n",
            "/content/zone2assignment/Connector_Generation.py:193: SettingWithCopyWarning: \n",
            "A value is trying to be set on a copy of a slice from a DataFrame.\n",
            "Try using .loc[row_indexer,col_indexer] = value instead\n",
            "\n",
            "See the caveats in the documentation: https://pandas.pydata.org/pandas-docs/stable/user_guide/indexing.html#returning-a-view-versus-a-copy\n",
            "  common_node_df['distance'] = np.sqrt(\n",
            "/content/zone2assignment/Connector_Generation.py:193: SettingWithCopyWarning: \n",
            "A value is trying to be set on a copy of a slice from a DataFrame.\n",
            "Try using .loc[row_indexer,col_indexer] = value instead\n",
            "\n",
            "See the caveats in the documentation: https://pandas.pydata.org/pandas-docs/stable/user_guide/indexing.html#returning-a-view-versus-a-copy\n",
            "  common_node_df['distance'] = np.sqrt(\n",
            "/content/zone2assignment/Connector_Generation.py:193: SettingWithCopyWarning: \n",
            "A value is trying to be set on a copy of a slice from a DataFrame.\n",
            "Try using .loc[row_indexer,col_indexer] = value instead\n",
            "\n",
            "See the caveats in the documentation: https://pandas.pydata.org/pandas-docs/stable/user_guide/indexing.html#returning-a-view-versus-a-copy\n",
            "  common_node_df['distance'] = np.sqrt(\n",
            "/content/zone2assignment/Connector_Generation.py:193: SettingWithCopyWarning: \n",
            "A value is trying to be set on a copy of a slice from a DataFrame.\n",
            "Try using .loc[row_indexer,col_indexer] = value instead\n",
            "\n",
            "See the caveats in the documentation: https://pandas.pydata.org/pandas-docs/stable/user_guide/indexing.html#returning-a-view-versus-a-copy\n",
            "  common_node_df['distance'] = np.sqrt(\n",
            "/content/zone2assignment/Connector_Generation.py:193: SettingWithCopyWarning: \n",
            "A value is trying to be set on a copy of a slice from a DataFrame.\n",
            "Try using .loc[row_indexer,col_indexer] = value instead\n",
            "\n",
            "See the caveats in the documentation: https://pandas.pydata.org/pandas-docs/stable/user_guide/indexing.html#returning-a-view-versus-a-copy\n",
            "  common_node_df['distance'] = np.sqrt(\n",
            "/content/zone2assignment/Connector_Generation.py:193: SettingWithCopyWarning: \n",
            "A value is trying to be set on a copy of a slice from a DataFrame.\n",
            "Try using .loc[row_indexer,col_indexer] = value instead\n",
            "\n",
            "See the caveats in the documentation: https://pandas.pydata.org/pandas-docs/stable/user_guide/indexing.html#returning-a-view-versus-a-copy\n",
            "  common_node_df['distance'] = np.sqrt(\n",
            "/content/zone2assignment/Connector_Generation.py:193: SettingWithCopyWarning: \n",
            "A value is trying to be set on a copy of a slice from a DataFrame.\n",
            "Try using .loc[row_indexer,col_indexer] = value instead\n",
            "\n",
            "See the caveats in the documentation: https://pandas.pydata.org/pandas-docs/stable/user_guide/indexing.html#returning-a-view-versus-a-copy\n",
            "  common_node_df['distance'] = np.sqrt(\n",
            "/content/zone2assignment/Connector_Generation.py:193: SettingWithCopyWarning: \n",
            "A value is trying to be set on a copy of a slice from a DataFrame.\n",
            "Try using .loc[row_indexer,col_indexer] = value instead\n",
            "\n",
            "See the caveats in the documentation: https://pandas.pydata.org/pandas-docs/stable/user_guide/indexing.html#returning-a-view-versus-a-copy\n",
            "  common_node_df['distance'] = np.sqrt(\n",
            "/content/zone2assignment/Connector_Generation.py:193: SettingWithCopyWarning: \n",
            "A value is trying to be set on a copy of a slice from a DataFrame.\n",
            "Try using .loc[row_indexer,col_indexer] = value instead\n",
            "\n",
            "See the caveats in the documentation: https://pandas.pydata.org/pandas-docs/stable/user_guide/indexing.html#returning-a-view-versus-a-copy\n",
            "  common_node_df['distance'] = np.sqrt(\n",
            "/content/zone2assignment/Connector_Generation.py:193: SettingWithCopyWarning: \n",
            "A value is trying to be set on a copy of a slice from a DataFrame.\n",
            "Try using .loc[row_indexer,col_indexer] = value instead\n",
            "\n",
            "See the caveats in the documentation: https://pandas.pydata.org/pandas-docs/stable/user_guide/indexing.html#returning-a-view-versus-a-copy\n",
            "  common_node_df['distance'] = np.sqrt(\n",
            "Generated 302 connector links.\n",
            "The connector links have been successfully saved to '/content/zone2assignment/connected_network/connector_links.csv'.\n",
            "Updated and merged data has been saved to /content/zone2assignment/connected_network/link_updated.csv.\n",
            "The updated node data has been successfully saved to '/content/zone2assignment/connected_network/node_updated.csv'.\n",
            "Computational time: 1.36 seconds\n"
          ]
        }
      ]
    },
    {
      "cell_type": "code",
      "source": [
        "# ================================\n",
        "# Step 4: Copy and Rename for DTALite inside \"validator_workspace/test_network\" folder\n",
        "# ================================\n",
        "# Step 4.1: Create validator_workspace/test_network and copy network files\n",
        "# ================================\n",
        "\n",
        "\n",
        "# Create required folders\n",
        "workspace_dir = \"validator_workspace\"\n",
        "test_net_dir = os.path.join(workspace_dir, \"test_network\")\n",
        "os.makedirs(test_net_dir, exist_ok=True)\n",
        "\n",
        "# Copy and rename node/link files to test_network/\n",
        "shutil.copy(\"connected_network/node_updated.csv\", os.path.join(test_net_dir, \"node.csv\"))\n",
        "shutil.copy(\"connected_network/link_updated.csv\", os.path.join(test_net_dir, \"link.csv\"))\n",
        "\n",
        "# Download default demand.csv from GitHub into test_network\n",
        "!curl -o validator_workspace/test_network/demand.csv https://raw.githubusercontent.com/hhhhhenanZ/zone2assignment/main/Tempe_case/step4_validation/test_network/demand.csv\n",
        "\n",
        "print(\"✅ Default demand.csv downloaded into validator_workspace/test_network\")\n",
        "\n",
        "# ================================\n",
        "# OPTIONAL: Upload your own demand.csv\n",
        "# This will overwrite the default one if uploaded\n",
        "# ================================\n",
        "# from google.colab import files\n",
        "# print(\"📤 Optional: Upload your own demand.csv (will replace the default one).\")\n",
        "# uploaded = files.upload()\n",
        "# if 'demand.csv' in uploaded:\n",
        "#     shutil.move(\"demand.csv\", os.path.join(test_net_dir, \"demand.csv\"))\n",
        "#     print(\"✅ Custom demand.csv uploaded and placed in validator_workspace/test_network/\")"
      ],
      "metadata": {
        "id": "tyWLWpFzdcma",
        "colab": {
          "base_uri": "https://localhost:8080/"
        },
        "outputId": "3d35d139-cb51-4daf-aa9e-3ea2c647852e"
      },
      "execution_count": 17,
      "outputs": [
        {
          "output_type": "stream",
          "name": "stdout",
          "text": [
            "  % Total    % Received % Xferd  Average Speed   Time    Time     Time  Current\n",
            "                                 Dload  Upload   Total   Spent    Left  Speed\n",
            "100  4848  100  4848    0     0  18869      0 --:--:-- --:--:-- --:--:-- 18937\n",
            "✅ Default demand.csv downloaded into validator_workspace/test_network\n"
          ]
        }
      ]
    },
    {
      "cell_type": "code",
      "source": [
        "# ================================\n",
        "# Step 4.2: Clone or copy validation tools from GitHub\n",
        "# You can customize this to pull specific files if needed\n",
        "# ================================\n",
        "!mkdir -p validator_workspace\n",
        "%cd validator_workspace\n",
        "!curl -O https://raw.githubusercontent.com/hhhhhenanZ/zone2assignment/main/Tempe_case/step4_validation/GMNS_Plus_Readiness_Validator.py\n",
        "!curl -O https://raw.githubusercontent.com/hhhhhenanZ/zone2assignment/main/Tempe_case/step4_validation/Network_Validator_Main.py\n",
        "!git clone https://github.com/hhhhhenanZ/zone2assignment.git temp_repo\n",
        "!cp -r temp_repo/Tempe_case/step4_validation/GMNS_Tools .\n",
        "!rm -rf temp_repo\n",
        "%cd ..\n",
        "\n",
        "# ================================\n",
        "# OPTIONAL: Upload your own validator files instead\n",
        "# ================================\n",
        "# Uncomment to upload a custom GMNS_Tools folder or .py files\n",
        "# from google.colab import files\n",
        "# print(\"📤 Optional: Upload your custom validator Python files or GMNS_Tools folder (as zip).\")\n",
        "# uploaded = files.upload()\n",
        "\n",
        "# You can also mount Google Drive:\n",
        "# from google.colab import drive\n",
        "# drive.mount('/content/drive')\n",
        "# !cp /content/drive/MyDrive/your_folder/*.py validator_workspace/\n",
        "# !cp -r /content/drive/MyDrive/your_folder/GMNS_Tools validator_workspace/"
      ],
      "metadata": {
        "id": "1WFlp-dCiKAp",
        "colab": {
          "base_uri": "https://localhost:8080/"
        },
        "outputId": "cdc8046b-b913-4bb1-d805-82a40eaa05f2"
      },
      "execution_count": 18,
      "outputs": [
        {
          "output_type": "stream",
          "name": "stdout",
          "text": [
            "/content/zone2assignment/validator_workspace\n",
            "  % Total    % Received % Xferd  Average Speed   Time    Time     Time  Current\n",
            "                                 Dload  Upload   Total   Spent    Left  Speed\n",
            "100  197k  100  197k    0     0   772k      0 --:--:-- --:--:-- --:--:--  770k\n",
            "  % Total    % Received % Xferd  Average Speed   Time    Time     Time  Current\n",
            "                                 Dload  Upload   Total   Spent    Left  Speed\n",
            "100  4349  100  4349    0     0  22082      0 --:--:-- --:--:-- --:--:-- 22188\n",
            "Cloning into 'temp_repo'...\n",
            "remote: Enumerating objects: 111, done.\u001b[K\n",
            "remote: Counting objects: 100% (111/111), done.\u001b[K\n",
            "remote: Compressing objects: 100% (81/81), done.\u001b[K\n",
            "remote: Total 111 (delta 36), reused 98 (delta 25), pack-reused 0 (from 0)\u001b[K\n",
            "Receiving objects: 100% (111/111), 11.41 MiB | 12.82 MiB/s, done.\n",
            "Resolving deltas: 100% (36/36), done.\n",
            "/content/zone2assignment\n"
          ]
        }
      ]
    },
    {
      "cell_type": "code",
      "source": [
        "# ================================\n",
        "# Step 4.3: Run the network validator\n",
        "# ================================\n",
        "%cd validator_workspace\n",
        "!python Network_Validator_Main.py"
      ],
      "metadata": {
        "id": "mJDdKGT5iHgz",
        "colab": {
          "base_uri": "https://localhost:8080/"
        },
        "outputId": "dc528d69-7d7e-4af8-ce5c-f845423cfbae"
      },
      "execution_count": 19,
      "outputs": [
        {
          "output_type": "stream",
          "name": "stdout",
          "text": [
            "/content/zone2assignment/validator_workspace\n",
            "DTALite, version 0.8.1\n",
            "\n",
            "Subdirectories:\n",
            "test_network\n",
            "GMNS Network Validator\n",
            "=========================\n",
            "Working directory: test_network\n",
            "Using node file: test_network/node.csv\n",
            "Using link file: test_network/link.csv\n",
            "Using demand file: test_network/demand.csv\n",
            "Validation level: 7\n",
            "\n",
            "Running validation at Readiness Level 7...\n",
            "\n",
            "SUCCESS: Zone centroids are correctly listed in non-decreasing order at the beginning of the file\n",
            "\n",
            "First through node identified as node_id=45\n",
            "\n",
            "Found 44 zone centroids out of 2782 total nodes\n",
            "\n",
            "First through node identified as node_id=45\n",
            "\n",
            "Found 45 unique zone IDs in node file\n",
            "Found 24 unique zone IDs in demand file\n",
            "\n",
            "SUCCESS: All zones in demand file exist in node file\n",
            "Copied settings.csv and NEXTA.exe to test_network\n",
            "sample_settings.csv file created successfully!\n",
            "sample_mode_type.csv file created successfully!\n",
            "number_of_modes = 1\n",
            "# of nodes= 2782, largest zone id (# of zones) = 44, First Through Node ID = 45, number of links = 4467\n",
            "total_base_link_volume = 0.000000\n",
            "Warning: Could not open movement.csv\n",
            "read demand file demand.csv\n",
            "o_zone_id: 1, d_zone_id: 1, volume: 0.0000\n",
            "o_zone_id: 1, d_zone_id: 2, volume: 10.0000\n",
            "o_zone_id: 1, d_zone_id: 3, volume: 10.0000\n",
            "o_zone_id: 1, d_zone_id: 4, volume: 50.0000\n",
            " mode type = auto, total_volume = 36060.000000\n",
            "Memmory creation time for 5D link path matrix: 0 hours 0 minutes 0 seconds 0 ms\n",
            "The list of zero-volume zones:25,26,27,28,29,30,31,32,33,34,35,36,37,38,39,40,41,42,43,44,\n",
            "The list of zones without outbound connecting links:\n",
            "All or nothing assignment: 0 hours 0 minutes 0 seconds 3 ms\n",
            "CPU running time: 0 hours 0 minutes 0 seconds 8 ms\n",
            "Output written to od_performance.csv\n",
            "Google Maps links saved to google_maps_od_distance.csv\n",
            "System performance written to system_performance.csv\n",
            "Origin accessibility written to origin_accessibility.csv\n",
            "Destination accessibility written to destination_accessibility.csv\n",
            "Inaccessible OD pairs written to inaccessible_od.csv\n",
            "Output written to route_assignment.csv\n",
            "File found: test_network/od_performance.csv\n",
            "\n",
            "OD pairs with extremely high distance ratios (very circuitous routes):\n",
            "  O=11, D=12, Network=4.18km, Straight=0.81km, Ratio=5.186330\n",
            "  O=1, D=3, Network=5.04km, Straight=0.97km, Ratio=5.184790\n",
            "  O=3, D=1, Network=5.04km, Straight=0.97km, Ratio=5.184790\n",
            "\n",
            "Problematic OD distance metrics written to test_network/problematic_od_distances.csv\n",
            "\n",
            "===== GMNS Validation Report =====\n",
            "Total checks: 54\n",
            "Errors: 1\n",
            "Warnings: 18\n",
            "Success: 8\n",
            "Info: 27\n",
            "\n",
            "----- ERRORS -----\n",
            "1. settings.csv not found. Required for ODME configuration. (Field: settings)\n",
            "\n",
            "----- WARNINGS -----\n",
            "1. mode_type.csv file not found (Field: mode_type)\n",
            "2. settings.csv file not found (Field: settings)\n",
            "3. Found 1333 links with unusually high hourly capacity (>3000) (Field: capacity)\n",
            "4. Found 302 links with unusually high capacity per lane (>2500) (Field: capacity)\n",
            "5. Link type 1 has large capacity variation (min=2300.0, max=16100.0) (Field: capacity)\n",
            "6. Link type 4 has large capacity variation (min=1600.0, max=11200.0) (Field: capacity)\n",
            "7. Link type 5 has large capacity variation (min=1200.0, max=6000.0) (Field: capacity)\n",
            "8. Found 2037 links with inconsistent length/vdf_length_mi conversion (>5% difference, avg=inf%) (Field: length)\n",
            "9. Found 932 links with inconsistent free_speed/vdf_free_speed_mph conversion (>5% difference, avg=6.52%) (Field: free_speed)\n",
            "10. Found 2139 links with inconsistent vdf_fftt calculation (>5% difference, avg=20.46%) (Field: vdf_fftt)\n",
            "11. Found 48 demand records with zero or negative volume (Field: volume)\n",
            "12. Missing 'obs_volume' field in link file. This is required for ODME. (Field: obs_volume)\n",
            "13. Found 3 OD pairs with very high distance ratios (>5.0) - extremely circuitous routes (Field: accessibility_distance)\n",
            "14. mode_type.csv not loaded. Cannot check demand-performance connectivity. (Field: accessibility)\n",
            "15. Found 2 routes (0.4%) with extremely high congestion (>5x free flow time) (Field: route_assignment)\n",
            "16. Found 113 links (2.5%) with very low speeds (<5 mph) (Field: assignment)\n",
            "17. Column 'ref_volume' not found or empty in link.csv. Cannot perform ref_volume and volume comparison. (Field: ref_volume)\n",
            "18. Found 2 routes (0.4%) with extremely high congestion (>5x free flow time) (Field: route_assignment)\n",
            "\n",
            "----- SUCCESSES -----\n",
            "1. Nodes are correctly sorted by node_id in ascending order (Field: node_id)\n",
            "2. Links are correctly sorted by from_node_id in ascending order (Field: from_node_id)\n",
            "3. Links are correctly sorted by to_node_id within from_node_id groups (Field: to_node_id)\n",
            "4. Zone centroids are correctly listed before physical nodes in non-decreasing order (Field: zone_id)\n",
            "5. All zones in demand file exist in node file (Field: zone_id)\n",
            "6. Link performance validation completed successfully with reasonable metrics (Field: assignment)\n",
            "7. Route assignment validation completed successfully with proper path distributions (Field: route_assignment)\n",
            "8. Traffic assignment validation (Level 7) completed successfully (Field: level_7)\n",
            "\n",
            "----- INFO -----\n",
            "1. VDF free speed values appear to be in mph (mean: 40.90, range: 15.0-75.0) (Field: vdf_free_speed_mph)\n",
            "2. Length values appear to be in meters (mean: 194.16, range: 1.6290108929211182-2166.0) (Field: length)\n",
            "3. VDF length values appear to be in miles (mean: 0.12, range: 0.0-1.35) (Field: vdf_length_mi)\n",
            "4. Capacity values range from 1200 to 99999 (mean: 10708.73) (Field: capacity)\n",
            "5. Field 'zone_id' in node file contains 2738 null/empty values (Field: zone_id)\n",
            "6. Field 'name' in node file contains 2736 null/empty values (Field: name)\n",
            "7. Field 'ref_volume' in link file contains 4467 null/empty values (Field: ref_volume)\n",
            "8. Field 'base_volume' in link file contains 4467 null/empty values (Field: base_volume)\n",
            "9. Field 'base_vol_auto' in link file contains 4467 null/empty values (Field: base_vol_auto)\n",
            "10. Found 44 zone centroids out of 2782 total nodes (Field: zone_id)\n",
            "11. First through node identified as node_id=45 (Field: node_id)\n",
            "12. Identified 302 connector links between zone centroids and physical nodes (Field: link_id)\n",
            "13. Found 24 demand records with same origin and destination zone (Field: o_zone_id)\n",
            "14. OD Performance statistics: 507 OD pairs, 24 origins, 23 destinations, 35450.0 total volume (Field: accessibility)\n",
            "15. Distance ratio statistics: Min=1.0411, Max=5.1863, Avg=1.7885, Median=1.6848 (Field: accessibility_distance)\n",
            "16. Exported 3 OD pairs with problematic distance metrics to test_network/problematic_od_distances.csv (Field: accessibility_distance)\n",
            "17. Accessibility metrics: Avg destinations per origin = 21.1, Avg origins per destination = 22.0 (Field: accessibility)\n",
            "18. Route assignment statistics: 507 routes for 507 OD pairs (avg 1.00 routes per OD) (Field: route_assignment)\n",
            "19. Average congestion ratio (travel time / free flow time): 1.23 (Field: route_assignment)\n",
            "20. Assignment metrics: Total volume = 1873790.0, VMT = 179342.4 vehicle-miles, VHT = 6753.0 vehicle-hours, Avg speed = 26.6 mph (Field: assignment)\n",
            "21. Link speed statistics: Average = 33.9 mph, Range = 0.0 - 80.0 mph (Field: assignment)\n",
            "22. No links with valid reference volumes found for comparison. (Field: reference_volume)\n",
            "23. No links with valid reference volumes found for comparison. (Field: reference_volume)\n",
            "24. Doc statistics: Average = 0.06, Max = 3.37, 0.2% of links have severe congestion (doc > 2) (Field: assignment)\n",
            "25. Congestion duration statistics: Average = 0.06 hours, Max = 3.37 hours, 49.1% of links have congestion (P > 0) (Field: assignment)\n",
            "26. Route assignment statistics: 507 routes for 507 OD pairs (avg 1.00 routes per OD) (Field: route_assignment)\n",
            "27. Average congestion ratio (travel time / free flow time): 1.23 (Field: route_assignment)\n",
            "\n",
            "----- METADATA -----\n",
            "Node file: test_network/node.csv\n",
            "Link file: test_network/link.csv\n",
            "Demand file: test_network/demand.csv\n",
            "Validation time: 2025-05-27 21:32:14\n",
            "Node count: 2782\n",
            "Link count: 4467\n",
            "Demand count: 576\n",
            "\n",
            "=======================================\n",
            "\n",
            "Report saved to test_network/validation_report.json\n"
          ]
        }
      ]
    },
    {
      "cell_type": "code",
      "source": [
        "# ================================\n",
        "# Step 4.4: Review Validation Outputs\n",
        "# ================================\n",
        "\n",
        "report_path = \"/content/zone2assignment/validator_workspace/test_network/validation_report.json\"\n",
        "\n",
        "print(\"\\n📄 Validation Complete!\")\n",
        "print(\"✅ Check the structured summary at:\")\n",
        "print(f\"   {report_path}\")\n",
        "\n",
        "# OPTIONAL: Display the content of the report directly in Colab\n",
        "import json\n",
        "if os.path.exists(report_path):\n",
        "    with open(report_path, 'r') as file:\n",
        "        report = json.load(file)\n",
        "        print(\"\\n🔍 Validation Report Summary:\")\n",
        "        for key, value in report.items():\n",
        "            print(f\"- {key}: {value}\")\n",
        "else:\n",
        "    print(\"⚠️ validation_report.json not found in test_network. Please ensure the validator ran successfully.\")\n"
      ],
      "metadata": {
        "id": "FAjbe9Wldcbl",
        "colab": {
          "base_uri": "https://localhost:8080/"
        },
        "outputId": "5c719bee-169d-42b8-c0be-941eeba4b8cd"
      },
      "execution_count": 22,
      "outputs": [
        {
          "output_type": "stream",
          "name": "stdout",
          "text": [
            "\n",
            "📄 Validation Complete!\n",
            "✅ Check the structured summary at:\n",
            "   /content/zone2assignment/validator_workspace/test_network/validation_report.json\n",
            "\n",
            "🔍 Validation Report Summary:\n",
            "- summary: {'total': 54, 'errors': 1, 'warnings': 18, 'success': 8, 'info': 27}\n",
            "- errors: [{'message': 'settings.csv not found. Required for ODME configuration.', 'field': 'settings', 'details': {}}]\n",
            "- warnings: [{'message': 'mode_type.csv file not found', 'field': 'mode_type', 'details': {}}, {'message': 'settings.csv file not found', 'field': 'settings', 'details': {}}, {'message': 'Found 1333 links with unusually high hourly capacity (>3000)', 'field': 'capacity', 'details': {'high_capacity_count': 1333, 'example_links': [1, 2, 3, 4, 5]}}, {'message': 'Found 302 links with unusually high capacity per lane (>2500)', 'field': 'capacity', 'details': {'high_cap_per_lane_count': 302, 'example_links': [1, 2, 3, 4, 5]}}, {'message': 'Link type 1 has large capacity variation (min=2300.0, max=16100.0)', 'field': 'capacity', 'details': {'link_type': 1, 'capacity_min': 2300.0, 'capacity_max': 16100.0, 'capacity_mean': 6860.115606936416, 'count': 519.0}}, {'message': 'Link type 4 has large capacity variation (min=1600.0, max=11200.0)', 'field': 'capacity', 'details': {'link_type': 4, 'capacity_min': 1600.0, 'capacity_max': 11200.0, 'capacity_mean': 4634.945705824284, 'count': 2026.0}}, {'message': 'Link type 5 has large capacity variation (min=1200.0, max=6000.0)', 'field': 'capacity', 'details': {'link_type': 5, 'capacity_min': 1200.0, 'capacity_max': 6000.0, 'capacity_mean': 1662.374245472837, 'count': 994.0}}, {'message': 'Found 2037 links with inconsistent length/vdf_length_mi conversion (>5% difference, avg=inf%)', 'field': 'length', 'details': {'inconsistent_count': 2037, 'example_links': [58, 104, 106, 126, 148], 'example_meters': [21.436033774839363, 53.77340194233524, 7.413472736514842, 3.2753519276017125, 1.6290108929211182], 'example_miles': [0.01, 0.03, 0.0, 0.0, 0.0], 'example_diffs': [33.19766969589622, 11.377753079596284, inf, inf, inf]}}, {'message': 'Found 932 links with inconsistent free_speed/vdf_free_speed_mph conversion (>5% difference, avg=6.52%)', 'field': 'free_speed', 'details': {'inconsistent_count': 932, 'example_links': [158, 159, 177, 239, 240], 'example_kmh': [60, 60, 60, 60, 60], 'example_mph': [35.0, 35.0, 35.0, 35.0, 35.0], 'example_diffs': [6.521040568538297, 6.521040568538297, 6.521040568538297, 6.521040568538297, 6.521040568538297]}}, {'message': 'Found 2139 links with inconsistent vdf_fftt calculation (>5% difference, avg=20.46%)', 'field': 'vdf_fftt', 'details': {'inconsistent_count': 2139, 'example_links': [57, 58, 66, 94, 104], 'example_fftt': [0.03, 0.01, 0.05, 0.28, 0.04], 'example_calc_fftt': [0.03272727272727273, 0.01090909090909091, 0.05454545454545454, 0.2945454545454546, 0.03272727272727273], 'example_diffs': [8.797653958944293, 8.264462809917362, 8.91265597147949, 5.176318343578143, 17.73835920177383]}}, {'message': 'Found 48 demand records with zero or negative volume', 'field': 'volume', 'details': {'invalid_volume_count': 48}}, {'message': \"Missing 'obs_volume' field in link file. This is required for ODME.\", 'field': 'obs_volume', 'details': {}}, {'message': 'Found 3 OD pairs with very high distance ratios (>5.0) - extremely circuitous routes', 'field': 'accessibility_distance', 'details': {'very_high_count': 3, 'example_pairs': [[11.0, 12.0, 4.1834, 0.806621, 5.18633], [1.0, 3.0, 5.03617, 0.971336, 5.18479], [3.0, 1.0, 5.03617, 0.971336, 5.18479]]}}, {'message': 'mode_type.csv not loaded. Cannot check demand-performance connectivity.', 'field': 'accessibility', 'details': {}}, {'message': 'Found 2 routes (0.4%) with extremely high congestion (>5x free flow time)', 'field': 'route_assignment', 'details': {'high_congestion_count': 2, 'high_congestion_percent': 0.39447731755424065, 'example_routes': [[10.0, 11.0, 5.120068965517242], [12.0, 10.0, 5.736642335766423]]}}, {'message': 'Found 113 links (2.5%) with very low speeds (<5 mph)', 'field': 'assignment', 'details': {'very_slow_count': 113, 'very_slow_percent': 2.529661965524961}}, {'message': \"Column 'ref_volume' not found or empty in link.csv. Cannot perform ref_volume and volume comparison.\", 'field': 'ref_volume', 'details': {}}, {'message': 'Found 2 routes (0.4%) with extremely high congestion (>5x free flow time)', 'field': 'route_assignment', 'details': {'high_congestion_count': 2, 'high_congestion_percent': 0.39447731755424065, 'example_routes': [[10.0, 11.0, 5.120068965517242], [12.0, 10.0, 5.736642335766423]]}}]\n",
            "- success: [{'message': 'Nodes are correctly sorted by node_id in ascending order', 'field': 'node_id', 'details': {}}, {'message': 'Links are correctly sorted by from_node_id in ascending order', 'field': 'from_node_id', 'details': {}}, {'message': 'Links are correctly sorted by to_node_id within from_node_id groups', 'field': 'to_node_id', 'details': {}}, {'message': 'Zone centroids are correctly listed before physical nodes in non-decreasing order', 'field': 'zone_id', 'details': {}}, {'message': 'All zones in demand file exist in node file', 'field': 'zone_id', 'details': {}}, {'message': 'Link performance validation completed successfully with reasonable metrics', 'field': 'assignment', 'details': {}}, {'message': 'Route assignment validation completed successfully with proper path distributions', 'field': 'route_assignment', 'details': {}}, {'message': 'Traffic assignment validation (Level 7) completed successfully', 'field': 'level_7', 'details': {}}]\n",
            "- info: [{'message': 'VDF free speed values appear to be in mph (mean: 40.90, range: 15.0-75.0)', 'field': 'vdf_free_speed_mph', 'details': {}}, {'message': 'Length values appear to be in meters (mean: 194.16, range: 1.6290108929211182-2166.0)', 'field': 'length', 'details': {}}, {'message': 'VDF length values appear to be in miles (mean: 0.12, range: 0.0-1.35)', 'field': 'vdf_length_mi', 'details': {}}, {'message': 'Capacity values range from 1200 to 99999 (mean: 10708.73)', 'field': 'capacity', 'details': {'min': 1200, 'max': 99999, 'mean': 10708.73024401164}}, {'message': \"Field 'zone_id' in node file contains 2738 null/empty values\", 'field': 'zone_id', 'details': {}}, {'message': \"Field 'name' in node file contains 2736 null/empty values\", 'field': 'name', 'details': {}}, {'message': \"Field 'ref_volume' in link file contains 4467 null/empty values\", 'field': 'ref_volume', 'details': {}}, {'message': \"Field 'base_volume' in link file contains 4467 null/empty values\", 'field': 'base_volume', 'details': {}}, {'message': \"Field 'base_vol_auto' in link file contains 4467 null/empty values\", 'field': 'base_vol_auto', 'details': {}}, {'message': 'Found 44 zone centroids out of 2782 total nodes', 'field': 'zone_id', 'details': {}}, {'message': 'First through node identified as node_id=45', 'field': 'node_id', 'details': {}}, {'message': 'Identified 302 connector links between zone centroids and physical nodes', 'field': 'link_id', 'details': {'connector_count': 302}}, {'message': 'Found 24 demand records with same origin and destination zone', 'field': 'o_zone_id', 'details': {'self_loop_count': 24}}, {'message': 'OD Performance statistics: 507 OD pairs, 24 origins, 23 destinations, 35450.0 total volume', 'field': 'accessibility', 'details': {'total_od_pairs': 507, 'unique_origins': 24, 'unique_destinations': 23, 'total_volume': 35450.0}}, {'message': 'Distance ratio statistics: Min=1.0411, Max=5.1863, Avg=1.7885, Median=1.6848', 'field': 'accessibility_distance', 'details': {'min_ratio': 1.04114, 'max_ratio': 5.18633, 'avg_ratio': 1.788479230769231, 'median_ratio': 1.68483}}, {'message': 'Exported 3 OD pairs with problematic distance metrics to test_network/problematic_od_distances.csv', 'field': 'accessibility_distance', 'details': {'output_file': 'test_network/problematic_od_distances.csv'}}, {'message': 'Accessibility metrics: Avg destinations per origin = 21.1, Avg origins per destination = 22.0', 'field': 'accessibility', 'details': {'avg_accessible_destinations': 21.125, 'avg_reachable_origins': 22.043478260869566}}, {'message': 'Route assignment statistics: 507 routes for 507 OD pairs (avg 1.00 routes per OD)', 'field': 'route_assignment', 'details': {'total_routes': 507, 'unique_od_pairs': 507, 'avg_routes_per_od': 1.0}}, {'message': 'Average congestion ratio (travel time / free flow time): 1.23', 'field': 'route_assignment', 'details': {'avg_congestion': 1.2328206161394537}}, {'message': 'Assignment metrics: Total volume = 1873790.0, VMT = 179342.4 vehicle-miles, VHT = 6753.0 vehicle-hours, Avg speed = 26.6 mph', 'field': 'assignment', 'details': {'total_volume': 1873790.0, 'total_vmt': 179342.4, 'total_vht': 6752.997305, 'avg_speed': 26.557451735870345}}, {'message': 'Link speed statistics: Average = 33.9 mph, Range = 0.0 - 80.0 mph', 'field': 'assignment', 'details': {'avg_link_speed_mph': 33.90391846877099, 'min_link_speed_mph': 0.0, 'max_link_speed_mph': 80.0}}, {'message': 'No links with valid reference volumes found for comparison.', 'field': 'reference_volume', 'details': {}}, {'message': 'No links with valid reference volumes found for comparison.', 'field': 'reference_volume', 'details': {}}, {'message': 'Doc statistics: Average = 0.06, Max = 3.37, 0.2% of links have severe congestion (doc > 2)', 'field': 'assignment', 'details': {'avg_doc': 0.06074692187150212, 'max_doc': 3.3667, 'severe_congestion_percent': 0.24625027982986344}}, {'message': 'Congestion duration statistics: Average = 0.06 hours, Max = 3.37 hours, 49.1% of links have congestion (P > 0)', 'field': 'assignment', 'details': {'avg_p': 0.06074649944034027, 'max_p': 3.366667, 'congested_links_percent': 49.115737631520034}}, {'message': 'Route assignment statistics: 507 routes for 507 OD pairs (avg 1.00 routes per OD)', 'field': 'route_assignment', 'details': {'total_routes': 507, 'unique_od_pairs': 507, 'avg_routes_per_od': 1.0}}, {'message': 'Average congestion ratio (travel time / free flow time): 1.23', 'field': 'route_assignment', 'details': {'avg_congestion': 1.2328206161394537}}]\n",
            "- metadata: {'node_file': 'test_network/node.csv', 'link_file': 'test_network/link.csv', 'demand_file': 'test_network/demand.csv', 'validation_time': '2025-05-27 21:32:14', 'node_count': 2782, 'link_count': 4467, 'demand_count': 576}\n",
            "- field_statistics: {'node': {'name': {'unique_values': 47, 'null_count': 2736}, 'node_id': {'min': 1.0, 'max': 2928.0, 'mean': 1471.1599568655643, 'null_count': 0}, 'osm_node_id': {'unique_values': 2739, 'null_count': 44}, 'x_coord': {'min': -111.9840523, 'max': -111.8751613, 'mean': -111.93207658521985, 'null_count': 0}, 'y_coord': {'min': 33.3199306, 'max': 33.4666296, 'mean': 33.398381743192246, 'null_count': 0}, 'zone_id': {'min': 1.0, 'max': 44.0, 'mean': 22.5, 'null_count': 2738}, 'taz_id': {'min': 318400.0, 'max': 810400.0, 'mean': 357592.3409090909, 'null_count': 2738}, 'geometry': {'unique_values': 2782, 'null_count': 0}, 'notes': {'unique_values': 2, 'null_count': 2738}, 'old_node_id': {'min': 1.0, 'max': 2884.0, 'mean': 1450.4401022644265, 'null_count': 44}, 'is_boundary': {'min': -1.0, 'max': 2.0, 'mean': 0.027757487216946677, 'null_count': 44}, 'activity_type': {'unique_values': 5, 'null_count': 44}, 'poi_id': {'min': nan, 'max': nan, 'mean': nan, 'null_count': 2782}}, 'link': {'link_id': {'min': 1.0, 'max': 4467.0, 'mean': 2234.0, 'null_count': 0}, 'name': {'unique_values': 101, 'null_count': 768}, 'osm_way_id': {'min': 5560512.0, 'max': 1375474134.0, 'mean': 494163072.40144056, 'null_count': 302}, 'from_node_id': {'min': 1.0, 'max': 2928.0, 'mean': 1471.533243787777, 'null_count': 0}, 'to_node_id': {'min': 1.0, 'max': 2928.0, 'mean': 1478.965301096933, 'null_count': 0}, 'directed': {'min': 1.0, 'max': 1.0, 'mean': 1.0, 'null_count': 302}, 'geometry': {'unique_values': 4467, 'null_count': 0}, 'dir_flag': {'min': 1.0, 'max': 1.0, 'mean': 1.0, 'null_count': 0}, 'length': {'min': 1.6290108929211182, 'max': 2166.0, 'mean': 194.1609679322913, 'null_count': 0}, 'facility_type': {'unique_values': 5, 'null_count': 302}, 'link_type': {'min': 0.0, 'max': 5.0, 'mean': 3.463398253861652, 'null_count': 0}, 'free_speed': {'min': 24.0, 'max': 120.0, 'mean': 66.45153346765167, 'null_count': 0}, 'lanes': {'min': 1.0, 'max': 7.0, 'mean': 2.413476606223416, 'null_count': 0}, 'capacity': {'min': 1200.0, 'max': 99999.0, 'mean': 10708.73024401164, 'null_count': 0}, 'allowed_uses': {'min': nan, 'max': nan, 'mean': nan, 'null_count': 4467}, 'vdf_toll': {'min': 0.0, 'max': 0.0, 'mean': 0.0, 'null_count': 0}, 'vdf_alpha': {'min': 0.15, 'max': 0.15, 'mean': 0.15, 'null_count': 0}, 'vdf_beta': {'min': 4.0, 'max': 4.0, 'mean': 4.0, 'null_count': 0}, 'vdf_plf': {'min': 1.0, 'max': 1.0, 'mean': 1.0, 'null_count': 0}, 'vdf_length_mi': {'min': 0.0, 'max': 1.35, 'mean': 0.12084396686814418, 'null_count': 0}, 'vdf_free_speed_mph': {'min': 15.0, 'max': 75.0, 'mean': 40.90217147974032, 'null_count': 0}, 'free_speed_in_mph_raw': {'min': 15.0, 'max': 75.0, 'mean': 40.90217147974032, 'null_count': 0}, 'vdf_fftt': {'min': 0.0, 'max': 2.32, 'mean': 0.17034475039176183, 'null_count': 0}, 'ref_volume': {'min': nan, 'max': nan, 'mean': nan, 'null_count': 4467}, 'base_volume': {'min': nan, 'max': nan, 'mean': nan, 'null_count': 4467}, 'base_vol_auto': {'min': nan, 'max': nan, 'mean': nan, 'null_count': 4467}, 'restricted_turn_nodes': {'min': nan, 'max': nan, 'mean': nan, 'null_count': 4467}, 'from_biway': {'min': 1.0, 'max': 1.0, 'mean': 1.0, 'null_count': 4165}, 'is_link': {'min': 0.0, 'max': 0.0, 'mean': 0.0, 'null_count': 4165}, 'link_type_name': {'unique_values': 2, 'null_count': 4165}, 'capacity_per_lane': {'min': 1200.0, 'max': 99999.0, 'mean': 8272.800089545557, 'null_count': 0}}, 'demand': {'o_zone_id': {'min': 1.0, 'max': 24.0, 'mean': 12.5, 'null_count': 0}, 'd_zone_id': {'min': 1.0, 'max': 24.0, 'mean': 12.5, 'null_count': 0}, 'volume': {'min': 0.0, 'max': 440.0, 'mean': 62.604166666666664, 'null_count': 0}}}\n"
          ]
        }
      ]
    },
    {
      "cell_type": "code",
      "source": [
        "# ================================\n",
        "# Step 5: Traffic Assignment (Already Performed in Step 4)\n",
        "# ================================\n",
        "# DTALite traffic assignment was executed in Step 4 as part of the validation process.\n",
        "# This step is included for clarity or additional runs if needed.\n"
      ],
      "metadata": {
        "id": "0RvMwBjcr2v2"
      },
      "execution_count": null,
      "outputs": []
    },
    {
      "cell_type": "code",
      "source": [
        "# ================================\n",
        "# Step 6: Accessibility Check\n",
        "# ================================\n",
        "print(\"\\n🧭 Accessibility Check Complete\")\n",
        "print(\"📁 Check these key output files in validator_workspace/test_network/:\")\n",
        "print(\"- inaccessible_od.csv : OD pairs with no feasible path\")\n",
        "print(\"- origin_accessibility.csv : Accessibility from each origin\")\n",
        "print(\"- destination_accessibility.csv : Accessibility for each destination\")\n",
        "\n",
        "# Optional: Preview top 5 inaccessible OD pairs\n",
        "import pandas as pd\n",
        "inaccessible_path = \"validator_workspace/test_network/inaccessible_od.csv\"\n",
        "\n",
        "if os.path.exists(inaccessible_path):\n",
        "    df = pd.read_csv(inaccessible_path)\n",
        "    print(\"\\n🔍 Preview: Top inaccessible OD pairs:\")\n",
        "    display(df.head())\n",
        "else:\n",
        "    print(\"✅ All OD pairs appear to be connected. No inaccessible_od.csv found.\")\n",
        "\n",
        "\n"
      ],
      "metadata": {
        "id": "eb_bjm0odcFK",
        "colab": {
          "base_uri": "https://localhost:8080/",
          "height": 345
        },
        "outputId": "982cd12a-da4c-4a54-8e99-8281fe3b8c61"
      },
      "execution_count": 25,
      "outputs": [
        {
          "output_type": "stream",
          "name": "stdout",
          "text": [
            "\n",
            "🧭 Accessibility Check Complete\n",
            "📁 Check these key output files in validator_workspace/test_network/:\n",
            "- inaccessible_od.csv : OD pairs with no feasible path\n",
            "- origin_accessibility.csv : Accessibility from each origin\n",
            "- destination_accessibility.csv : Accessibility for each destination\n",
            "\n",
            "🔍 Preview: Top inaccessible OD pairs:\n"
          ]
        },
        {
          "output_type": "display_data",
          "data": {
            "text/plain": [
              "  mode_type  origin_zone_id  destination_zone_id  \\\n",
              "0      auto               1                    5   \n",
              "1      auto               2                    5   \n",
              "2      auto               3                    5   \n",
              "3      auto               4                    5   \n",
              "4      auto               6                    5   \n",
              "\n",
              "                               google_maps_http_link  \n",
              "0  https://www.google.com/maps/dir/33.329291,-111...  \n",
              "1  https://www.google.com/maps/dir/33.329354,-111...  \n",
              "2  https://www.google.com/maps/dir/33.327312,-111...  \n",
              "3  https://www.google.com/maps/dir/33.418651,-111...  \n",
              "4  https://www.google.com/maps/dir/33.385992,-111...  "
            ],
            "text/html": [
              "\n",
              "  <div id=\"df-950ead15-f7e1-4ff5-a3be-61762e1ef591\" class=\"colab-df-container\">\n",
              "    <div>\n",
              "<style scoped>\n",
              "    .dataframe tbody tr th:only-of-type {\n",
              "        vertical-align: middle;\n",
              "    }\n",
              "\n",
              "    .dataframe tbody tr th {\n",
              "        vertical-align: top;\n",
              "    }\n",
              "\n",
              "    .dataframe thead th {\n",
              "        text-align: right;\n",
              "    }\n",
              "</style>\n",
              "<table border=\"1\" class=\"dataframe\">\n",
              "  <thead>\n",
              "    <tr style=\"text-align: right;\">\n",
              "      <th></th>\n",
              "      <th>mode_type</th>\n",
              "      <th>origin_zone_id</th>\n",
              "      <th>destination_zone_id</th>\n",
              "      <th>google_maps_http_link</th>\n",
              "    </tr>\n",
              "  </thead>\n",
              "  <tbody>\n",
              "    <tr>\n",
              "      <th>0</th>\n",
              "      <td>auto</td>\n",
              "      <td>1</td>\n",
              "      <td>5</td>\n",
              "      <td>https://www.google.com/maps/dir/33.329291,-111...</td>\n",
              "    </tr>\n",
              "    <tr>\n",
              "      <th>1</th>\n",
              "      <td>auto</td>\n",
              "      <td>2</td>\n",
              "      <td>5</td>\n",
              "      <td>https://www.google.com/maps/dir/33.329354,-111...</td>\n",
              "    </tr>\n",
              "    <tr>\n",
              "      <th>2</th>\n",
              "      <td>auto</td>\n",
              "      <td>3</td>\n",
              "      <td>5</td>\n",
              "      <td>https://www.google.com/maps/dir/33.327312,-111...</td>\n",
              "    </tr>\n",
              "    <tr>\n",
              "      <th>3</th>\n",
              "      <td>auto</td>\n",
              "      <td>4</td>\n",
              "      <td>5</td>\n",
              "      <td>https://www.google.com/maps/dir/33.418651,-111...</td>\n",
              "    </tr>\n",
              "    <tr>\n",
              "      <th>4</th>\n",
              "      <td>auto</td>\n",
              "      <td>6</td>\n",
              "      <td>5</td>\n",
              "      <td>https://www.google.com/maps/dir/33.385992,-111...</td>\n",
              "    </tr>\n",
              "  </tbody>\n",
              "</table>\n",
              "</div>\n",
              "    <div class=\"colab-df-buttons\">\n",
              "\n",
              "  <div class=\"colab-df-container\">\n",
              "    <button class=\"colab-df-convert\" onclick=\"convertToInteractive('df-950ead15-f7e1-4ff5-a3be-61762e1ef591')\"\n",
              "            title=\"Convert this dataframe to an interactive table.\"\n",
              "            style=\"display:none;\">\n",
              "\n",
              "  <svg xmlns=\"http://www.w3.org/2000/svg\" height=\"24px\" viewBox=\"0 -960 960 960\">\n",
              "    <path d=\"M120-120v-720h720v720H120Zm60-500h600v-160H180v160Zm220 220h160v-160H400v160Zm0 220h160v-160H400v160ZM180-400h160v-160H180v160Zm440 0h160v-160H620v160ZM180-180h160v-160H180v160Zm440 0h160v-160H620v160Z\"/>\n",
              "  </svg>\n",
              "    </button>\n",
              "\n",
              "  <style>\n",
              "    .colab-df-container {\n",
              "      display:flex;\n",
              "      gap: 12px;\n",
              "    }\n",
              "\n",
              "    .colab-df-convert {\n",
              "      background-color: #E8F0FE;\n",
              "      border: none;\n",
              "      border-radius: 50%;\n",
              "      cursor: pointer;\n",
              "      display: none;\n",
              "      fill: #1967D2;\n",
              "      height: 32px;\n",
              "      padding: 0 0 0 0;\n",
              "      width: 32px;\n",
              "    }\n",
              "\n",
              "    .colab-df-convert:hover {\n",
              "      background-color: #E2EBFA;\n",
              "      box-shadow: 0px 1px 2px rgba(60, 64, 67, 0.3), 0px 1px 3px 1px rgba(60, 64, 67, 0.15);\n",
              "      fill: #174EA6;\n",
              "    }\n",
              "\n",
              "    .colab-df-buttons div {\n",
              "      margin-bottom: 4px;\n",
              "    }\n",
              "\n",
              "    [theme=dark] .colab-df-convert {\n",
              "      background-color: #3B4455;\n",
              "      fill: #D2E3FC;\n",
              "    }\n",
              "\n",
              "    [theme=dark] .colab-df-convert:hover {\n",
              "      background-color: #434B5C;\n",
              "      box-shadow: 0px 1px 3px 1px rgba(0, 0, 0, 0.15);\n",
              "      filter: drop-shadow(0px 1px 2px rgba(0, 0, 0, 0.3));\n",
              "      fill: #FFFFFF;\n",
              "    }\n",
              "  </style>\n",
              "\n",
              "    <script>\n",
              "      const buttonEl =\n",
              "        document.querySelector('#df-950ead15-f7e1-4ff5-a3be-61762e1ef591 button.colab-df-convert');\n",
              "      buttonEl.style.display =\n",
              "        google.colab.kernel.accessAllowed ? 'block' : 'none';\n",
              "\n",
              "      async function convertToInteractive(key) {\n",
              "        const element = document.querySelector('#df-950ead15-f7e1-4ff5-a3be-61762e1ef591');\n",
              "        const dataTable =\n",
              "          await google.colab.kernel.invokeFunction('convertToInteractive',\n",
              "                                                    [key], {});\n",
              "        if (!dataTable) return;\n",
              "\n",
              "        const docLinkHtml = 'Like what you see? Visit the ' +\n",
              "          '<a target=\"_blank\" href=https://colab.research.google.com/notebooks/data_table.ipynb>data table notebook</a>'\n",
              "          + ' to learn more about interactive tables.';\n",
              "        element.innerHTML = '';\n",
              "        dataTable['output_type'] = 'display_data';\n",
              "        await google.colab.output.renderOutput(dataTable, element);\n",
              "        const docLink = document.createElement('div');\n",
              "        docLink.innerHTML = docLinkHtml;\n",
              "        element.appendChild(docLink);\n",
              "      }\n",
              "    </script>\n",
              "  </div>\n",
              "\n",
              "\n",
              "    <div id=\"df-c70146e4-bb2b-40e7-9be7-c0d4d7ba08df\">\n",
              "      <button class=\"colab-df-quickchart\" onclick=\"quickchart('df-c70146e4-bb2b-40e7-9be7-c0d4d7ba08df')\"\n",
              "                title=\"Suggest charts\"\n",
              "                style=\"display:none;\">\n",
              "\n",
              "<svg xmlns=\"http://www.w3.org/2000/svg\" height=\"24px\"viewBox=\"0 0 24 24\"\n",
              "     width=\"24px\">\n",
              "    <g>\n",
              "        <path d=\"M19 3H5c-1.1 0-2 .9-2 2v14c0 1.1.9 2 2 2h14c1.1 0 2-.9 2-2V5c0-1.1-.9-2-2-2zM9 17H7v-7h2v7zm4 0h-2V7h2v10zm4 0h-2v-4h2v4z\"/>\n",
              "    </g>\n",
              "</svg>\n",
              "      </button>\n",
              "\n",
              "<style>\n",
              "  .colab-df-quickchart {\n",
              "      --bg-color: #E8F0FE;\n",
              "      --fill-color: #1967D2;\n",
              "      --hover-bg-color: #E2EBFA;\n",
              "      --hover-fill-color: #174EA6;\n",
              "      --disabled-fill-color: #AAA;\n",
              "      --disabled-bg-color: #DDD;\n",
              "  }\n",
              "\n",
              "  [theme=dark] .colab-df-quickchart {\n",
              "      --bg-color: #3B4455;\n",
              "      --fill-color: #D2E3FC;\n",
              "      --hover-bg-color: #434B5C;\n",
              "      --hover-fill-color: #FFFFFF;\n",
              "      --disabled-bg-color: #3B4455;\n",
              "      --disabled-fill-color: #666;\n",
              "  }\n",
              "\n",
              "  .colab-df-quickchart {\n",
              "    background-color: var(--bg-color);\n",
              "    border: none;\n",
              "    border-radius: 50%;\n",
              "    cursor: pointer;\n",
              "    display: none;\n",
              "    fill: var(--fill-color);\n",
              "    height: 32px;\n",
              "    padding: 0;\n",
              "    width: 32px;\n",
              "  }\n",
              "\n",
              "  .colab-df-quickchart:hover {\n",
              "    background-color: var(--hover-bg-color);\n",
              "    box-shadow: 0 1px 2px rgba(60, 64, 67, 0.3), 0 1px 3px 1px rgba(60, 64, 67, 0.15);\n",
              "    fill: var(--button-hover-fill-color);\n",
              "  }\n",
              "\n",
              "  .colab-df-quickchart-complete:disabled,\n",
              "  .colab-df-quickchart-complete:disabled:hover {\n",
              "    background-color: var(--disabled-bg-color);\n",
              "    fill: var(--disabled-fill-color);\n",
              "    box-shadow: none;\n",
              "  }\n",
              "\n",
              "  .colab-df-spinner {\n",
              "    border: 2px solid var(--fill-color);\n",
              "    border-color: transparent;\n",
              "    border-bottom-color: var(--fill-color);\n",
              "    animation:\n",
              "      spin 1s steps(1) infinite;\n",
              "  }\n",
              "\n",
              "  @keyframes spin {\n",
              "    0% {\n",
              "      border-color: transparent;\n",
              "      border-bottom-color: var(--fill-color);\n",
              "      border-left-color: var(--fill-color);\n",
              "    }\n",
              "    20% {\n",
              "      border-color: transparent;\n",
              "      border-left-color: var(--fill-color);\n",
              "      border-top-color: var(--fill-color);\n",
              "    }\n",
              "    30% {\n",
              "      border-color: transparent;\n",
              "      border-left-color: var(--fill-color);\n",
              "      border-top-color: var(--fill-color);\n",
              "      border-right-color: var(--fill-color);\n",
              "    }\n",
              "    40% {\n",
              "      border-color: transparent;\n",
              "      border-right-color: var(--fill-color);\n",
              "      border-top-color: var(--fill-color);\n",
              "    }\n",
              "    60% {\n",
              "      border-color: transparent;\n",
              "      border-right-color: var(--fill-color);\n",
              "    }\n",
              "    80% {\n",
              "      border-color: transparent;\n",
              "      border-right-color: var(--fill-color);\n",
              "      border-bottom-color: var(--fill-color);\n",
              "    }\n",
              "    90% {\n",
              "      border-color: transparent;\n",
              "      border-bottom-color: var(--fill-color);\n",
              "    }\n",
              "  }\n",
              "</style>\n",
              "\n",
              "      <script>\n",
              "        async function quickchart(key) {\n",
              "          const quickchartButtonEl =\n",
              "            document.querySelector('#' + key + ' button');\n",
              "          quickchartButtonEl.disabled = true;  // To prevent multiple clicks.\n",
              "          quickchartButtonEl.classList.add('colab-df-spinner');\n",
              "          try {\n",
              "            const charts = await google.colab.kernel.invokeFunction(\n",
              "                'suggestCharts', [key], {});\n",
              "          } catch (error) {\n",
              "            console.error('Error during call to suggestCharts:', error);\n",
              "          }\n",
              "          quickchartButtonEl.classList.remove('colab-df-spinner');\n",
              "          quickchartButtonEl.classList.add('colab-df-quickchart-complete');\n",
              "        }\n",
              "        (() => {\n",
              "          let quickchartButtonEl =\n",
              "            document.querySelector('#df-c70146e4-bb2b-40e7-9be7-c0d4d7ba08df button');\n",
              "          quickchartButtonEl.style.display =\n",
              "            google.colab.kernel.accessAllowed ? 'block' : 'none';\n",
              "        })();\n",
              "      </script>\n",
              "    </div>\n",
              "\n",
              "    </div>\n",
              "  </div>\n"
            ],
            "application/vnd.google.colaboratory.intrinsic+json": {
              "type": "dataframe",
              "summary": "{\n  \"name\": \"    print(\\\"\\u2705 All OD pairs appear to be connected\",\n  \"rows\": 5,\n  \"fields\": [\n    {\n      \"column\": \"mode_type\",\n      \"properties\": {\n        \"dtype\": \"category\",\n        \"num_unique_values\": 1,\n        \"samples\": [\n          \"auto\"\n        ],\n        \"semantic_type\": \"\",\n        \"description\": \"\"\n      }\n    },\n    {\n      \"column\": \"origin_zone_id\",\n      \"properties\": {\n        \"dtype\": \"number\",\n        \"std\": 1,\n        \"min\": 1,\n        \"max\": 6,\n        \"num_unique_values\": 5,\n        \"samples\": [\n          2\n        ],\n        \"semantic_type\": \"\",\n        \"description\": \"\"\n      }\n    },\n    {\n      \"column\": \"destination_zone_id\",\n      \"properties\": {\n        \"dtype\": \"number\",\n        \"std\": 0,\n        \"min\": 5,\n        \"max\": 5,\n        \"num_unique_values\": 1,\n        \"samples\": [\n          5\n        ],\n        \"semantic_type\": \"\",\n        \"description\": \"\"\n      }\n    },\n    {\n      \"column\": \"google_maps_http_link\",\n      \"properties\": {\n        \"dtype\": \"string\",\n        \"num_unique_values\": 5,\n        \"samples\": [\n          \"https://www.google.com/maps/dir/33.329354,-111.922345/33.418289,-111.932660/\"\n        ],\n        \"semantic_type\": \"\",\n        \"description\": \"\"\n      }\n    }\n  ]\n}"
            }
          },
          "metadata": {}
        }
      ]
    },
    {
      "cell_type": "code",
      "source": [
        "# ================================\n",
        "# Final Step: Zip test_network folder for download\n",
        "# ================================\n",
        "import shutil\n",
        "\n",
        "shutil.make_archive(\"test_network_results\", 'zip', \"validator_workspace/test_network\")\n",
        "print(\"\\n📦 Zipped test_network folder created: test_network_results.zip\")\n",
        "\n",
        "# Provide download link\n",
        "from google.colab import files\n",
        "files.download(\"test_network_results.zip\")"
      ],
      "metadata": {
        "id": "o7nDUkKDh-dh",
        "colab": {
          "base_uri": "https://localhost:8080/",
          "height": 52
        },
        "outputId": "f319af16-a029-4ff9-c538-2d8fe0c13428"
      },
      "execution_count": 26,
      "outputs": [
        {
          "output_type": "stream",
          "name": "stdout",
          "text": [
            "\n",
            "📦 Zipped test_network folder created: test_network_results.zip\n"
          ]
        },
        {
          "output_type": "display_data",
          "data": {
            "text/plain": [
              "<IPython.core.display.Javascript object>"
            ],
            "application/javascript": [
              "\n",
              "    async function download(id, filename, size) {\n",
              "      if (!google.colab.kernel.accessAllowed) {\n",
              "        return;\n",
              "      }\n",
              "      const div = document.createElement('div');\n",
              "      const label = document.createElement('label');\n",
              "      label.textContent = `Downloading \"${filename}\": `;\n",
              "      div.appendChild(label);\n",
              "      const progress = document.createElement('progress');\n",
              "      progress.max = size;\n",
              "      div.appendChild(progress);\n",
              "      document.body.appendChild(div);\n",
              "\n",
              "      const buffers = [];\n",
              "      let downloaded = 0;\n",
              "\n",
              "      const channel = await google.colab.kernel.comms.open(id);\n",
              "      // Send a message to notify the kernel that we're ready.\n",
              "      channel.send({})\n",
              "\n",
              "      for await (const message of channel.messages) {\n",
              "        // Send a message to notify the kernel that we're ready.\n",
              "        channel.send({})\n",
              "        if (message.buffers) {\n",
              "          for (const buffer of message.buffers) {\n",
              "            buffers.push(buffer);\n",
              "            downloaded += buffer.byteLength;\n",
              "            progress.value = downloaded;\n",
              "          }\n",
              "        }\n",
              "      }\n",
              "      const blob = new Blob(buffers, {type: 'application/binary'});\n",
              "      const a = document.createElement('a');\n",
              "      a.href = window.URL.createObjectURL(blob);\n",
              "      a.download = filename;\n",
              "      div.appendChild(a);\n",
              "      a.click();\n",
              "      div.remove();\n",
              "    }\n",
              "  "
            ]
          },
          "metadata": {}
        },
        {
          "output_type": "display_data",
          "data": {
            "text/plain": [
              "<IPython.core.display.Javascript object>"
            ],
            "application/javascript": [
              "download(\"download_350143c6-e9a6-47a7-acf9-faa480488293\", \"test_network_results.zip\", 2499062)"
            ]
          },
          "metadata": {}
        }
      ]
    },
    {
      "cell_type": "code",
      "source": [],
      "metadata": {
        "id": "c9ly_AqEsJuR"
      },
      "execution_count": null,
      "outputs": []
    },
    {
      "cell_type": "code",
      "source": [
        "#Note: Clear files\n",
        "\n",
        "\n",
        "# Step 0: Move to a safe location to allow cleanup\n",
        "%cd /\n",
        "\n",
        "# Step 1: Remove all files and folders inside /content\n",
        "!rm -rf /content/*\n",
        "\n",
        "# Step 2: Reset all Python variables\n",
        "%reset -f\n",
        "\n",
        "# Step 3: Clear all cell outputs\n",
        "from IPython.display import clear_output\n",
        "clear_output()\n",
        "\n",
        "# Step 4: Return to /content as working directory\n",
        "%cd /content\n",
        "\n",
        "print(\"🔄 All files, variables, and outputs have been cleared.\")"
      ],
      "metadata": {
        "colab": {
          "base_uri": "https://localhost:8080/"
        },
        "id": "dtYZZfhZnyfy",
        "outputId": "1a7f25b7-b136-4c2d-ce73-ce2d2a40be0a"
      },
      "execution_count": 3,
      "outputs": [
        {
          "output_type": "stream",
          "name": "stdout",
          "text": [
            "/content\n",
            "🔄 All files, variables, and outputs have been cleared.\n"
          ]
        }
      ]
    },
    {
      "cell_type": "code",
      "source": [],
      "metadata": {
        "id": "iG8Ij0SMny4A"
      },
      "execution_count": null,
      "outputs": []
    }
  ]
}